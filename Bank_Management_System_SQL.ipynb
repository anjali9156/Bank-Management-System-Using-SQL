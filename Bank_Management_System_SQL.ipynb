{
 "cells": [
  {
   "cell_type": "markdown",
   "id": "b3edf31e",
   "metadata": {},
   "source": [
    "<h3>import mysql.connector"
   ]
  },
  {
   "cell_type": "code",
   "execution_count": 1,
   "id": "097874b8",
   "metadata": {},
   "outputs": [],
   "source": [
    "import mysql.connector as a"
   ]
  },
  {
   "cell_type": "markdown",
   "id": "b06ee01d",
   "metadata": {},
   "source": [
    "<h3>Connection with mysql database"
   ]
  },
  {
   "cell_type": "code",
   "execution_count": 2,
   "id": "1f7fc18c",
   "metadata": {},
   "outputs": [],
   "source": [
    "import mysql.connector as a\n",
    "conn = a.connect(host=\"localhost\", password=\"mysql\", user=\"root\", auth_plugin='mysql_native_password')"
   ]
  },
  {
   "cell_type": "markdown",
   "id": "17413f9a",
   "metadata": {},
   "source": [
    "<h3> To check whether the connection is established"
   ]
  },
  {
   "cell_type": "code",
   "execution_count": 3,
   "id": "e2e48efe",
   "metadata": {},
   "outputs": [
    {
     "name": "stdout",
     "output_type": "stream",
     "text": [
      "Connection is established..\n"
     ]
    }
   ],
   "source": [
    "if conn.is_connected():\n",
    "    print(\"Connection is established..\")\n",
    "else:\n",
    "    print(\"No\")"
   ]
  },
  {
   "cell_type": "markdown",
   "id": "10cbd809",
   "metadata": {},
   "source": [
    "<h3>Forming cursor to execute SQL query"
   ]
  },
  {
   "cell_type": "code",
   "execution_count": 4,
   "id": "d1028e5b",
   "metadata": {},
   "outputs": [],
   "source": [
    "curr=conn.cursor()"
   ]
  },
  {
   "cell_type": "markdown",
   "id": "64c2c94c",
   "metadata": {},
   "source": [
    "<h3> Create new database named 'Bank_Dataset'"
   ]
  },
  {
   "cell_type": "code",
   "execution_count": 6,
   "id": "0a1398b2",
   "metadata": {},
   "outputs": [],
   "source": [
    "curr.execute(\"Create database Bank_Dataset\")"
   ]
  },
  {
   "cell_type": "markdown",
   "id": "e200adbd",
   "metadata": {},
   "source": [
    "<h3>Create the 'BankAccount' table by using 'Bank_Dataset' database"
   ]
  },
  {
   "cell_type": "code",
   "execution_count": 7,
   "id": "f5b1faef",
   "metadata": {},
   "outputs": [],
   "source": [
    "curr.execute(\"Use Bank_Dataset\")\n",
    "curr.execute(\"\"\"CREATE TABLE IF NOT EXISTS BankAccount (\n",
    "        name VARCHAR(50),\n",
    "        account_no VARCHAR(10),\n",
    "        dob VARCHAR(10),\n",
    "        city VARCHAR(100),\n",
    "        phone_no varchar(10),\n",
    "        opening_balance INT\n",
    "    )\"\"\"\n",
    ")"
   ]
  },
  {
   "cell_type": "markdown",
   "id": "2646465c",
   "metadata": {},
   "source": [
    "<h3>Create another table 'BankAmount'"
   ]
  },
  {
   "cell_type": "code",
   "execution_count": 8,
   "id": "dcde750c",
   "metadata": {},
   "outputs": [],
   "source": [
    "curr.execute(\"\"\"\n",
    "    CREATE TABLE IF NOT EXISTS BankAmount (\n",
    "        name VARCHAR(50),\n",
    "        account_no VARCHAR(10),\n",
    "        balance INT(10)\n",
    "    )\"\"\"\n",
    ")"
   ]
  },
  {
   "cell_type": "markdown",
   "id": "1d4a6cc6",
   "metadata": {},
   "source": [
    "<h3>Creating functions to applying the following operations:</h3> 1. Open Account <br> 2. Deposit Amount <br> 3. Withdraw Amount<br> 4. Balance Enquiry<br> 5. Display Customer Details <br> 6. Close an Account"
   ]
  },
  {
   "cell_type": "code",
   "execution_count": 9,
   "id": "20d465d3",
   "metadata": {},
   "outputs": [
    {
     "name": "stdout",
     "output_type": "stream",
     "text": [
      "\n",
      "    1.Open New Account\n",
      "    2.Deposit Amount\n",
      "    3.Withdraw Amount\n",
      "    4.Balance Check\n",
      "    5.Display the Details of User\n",
      "    6.Close an Account\n",
      "    \n",
      "Enter Task no:1\n",
      "Enter Name: Ujjwal\n",
      "Enter Account No: 2001331530\n",
      "Enter D.O.B: 08/04/2002\n",
      "Enter City: Jalalabad\n",
      "Enter Phone Number: 9456856758\n",
      "Enter Opening Balance: 2000\n",
      "Data Entered Successfully\n",
      "\n",
      "    1.Open New Account\n",
      "    2.Deposit Amount\n",
      "    3.Withdraw Amount\n",
      "    4.Balance Check\n",
      "    5.Display the Details of User\n",
      "    6.Close an Account\n",
      "    \n",
      "Enter Task no:2\n",
      "Enter Amount: 1500\n",
      "Enter Account No: 2001331530\n",
      "\n",
      "    1.Open New Account\n",
      "    2.Deposit Amount\n",
      "    3.Withdraw Amount\n",
      "    4.Balance Check\n",
      "    5.Display the Details of User\n",
      "    6.Close an Account\n",
      "    \n",
      "Enter Task no:7\n",
      "The input provided is not right... Please provide the correct input!!\n"
     ]
    }
   ],
   "source": [
    "#Function to Open an Account\n",
    "def openAcc():\n",
    "    name = input(\"Enter Name: \")\n",
    "    account_no = input(\"Enter Account No: \")\n",
    "    dob = input(\"Enter D.O.B: \")\n",
    "    city = input(\"Enter City: \")\n",
    "    phone_no = input(\"Enter Phone Number: \")\n",
    "    opening_balance = int(input(\"Enter Opening Balance: \"))\n",
    "    data1 = (name, account_no, dob, city, phone_no, opening_balance)\n",
    "    data2 = (name, account_no, opening_balance)\n",
    "    sql1 = 'INSERT INTO BankAccount VALUES (%s, %s, %s, %s, %s, %s)'\n",
    "    sql2 = \"INSERT INTO BankAmount values(%s,%s,%s)\"\n",
    "    curr = conn.cursor()\n",
    "    curr.execute(sql1, data1)\n",
    "    curr.execute(sql2,data2)\n",
    "    conn.commit()\n",
    "    print(\"Data Entered Successfully\")\n",
    "    main()\n",
    "\n",
    "#Function to deposit the amount\n",
    "def depositAmount():\n",
    "    amount = int(input(\"Enter Amount: \"))\n",
    "    account_no = input(\"Enter Account No: \")\n",
    "    a = \"select balance from BankAmount where account_no=%s\"\n",
    "    data = (account_no,) \n",
    "    curr = conn.cursor()\n",
    "    curr.execute(a, data)\n",
    "    myresult = curr.fetchone()\n",
    "    tam = myresult[0] + amount\n",
    "    sql = \"update BankAmount set balance = %s where account_no=%s\"\n",
    "    d = (tam, account_no)\n",
    "    curr.execute(sql, d)\n",
    "    conn.commit()\n",
    "    main()\n",
    "\n",
    "#Function to Withdraw an Amount\n",
    "def withdrawAmount():\n",
    "    amount = int(input(\"Enter Amount: \"))\n",
    "    account_no = input(\"Enter Account No: \")\n",
    "    a = \"select balance from BankAmount where account_no=%s\"\n",
    "    data = (account_no,)\n",
    "    curr = conn.cursor()\n",
    "    curr.execute(a, data)\n",
    "    myresult = curr.fetchone()\n",
    "    tam = myresult[0] - amount\n",
    "    sql = \"update BankAmount set balance = %s where account_no=%s\"\n",
    "    d = (tam, account_no)\n",
    "    curr.execute(sql, d)\n",
    "    conn.commit()\n",
    "    main()\n",
    "    \n",
    "#Function to Check the Balance  \n",
    "def checkBalance():\n",
    "    account_no = input(\"Enter Account No:\")\n",
    "    a = \"select balance from BankAmount where account_no=%s\"\n",
    "    data = (account_no,)\n",
    "    curr = conn.cursor()\n",
    "    curr.execute(a, data)\n",
    "    myresult = curr.fetchone()\n",
    "    print(\"Balance for Account:\", account_no, \"is\", myresult[0])\n",
    "    main()\n",
    "\n",
    "\n",
    "#Function to Display the details of the user\n",
    "def displayDetails():\n",
    "    account_no = input(\"Enter Account No:\")\n",
    "    a = \"select * from BankAmount where account_no=%s\"\n",
    "    data = (account_no,)\n",
    "    curr = conn.cursor()\n",
    "    curr.execute(a, data)\n",
    "    myresult = curr.fetchone()\n",
    "    for i in myresult:\n",
    "        print(i, end=\" \")\n",
    "    main()\n",
    "\n",
    "#Function to close an account\n",
    "def closeAcc():\n",
    "    account_no = input(\"Enter Account No:\")\n",
    "    sql1 = \"delete from BankAccount where account_no=%s\"\n",
    "    sql2 = \"delete from BankAmount where account_no=%s\"\n",
    "    data = (account_no,)\n",
    "    curr = conn.cursor()\n",
    "    curr.execute(sql1, data)\n",
    "    curr.execute(sql2, data)\n",
    "    conn.commit()\n",
    "    main()\n",
    "\n",
    "#Main program function \n",
    "def main():\n",
    "    print(\"\"\"\n",
    "    1.Open New Account\n",
    "    2.Deposit Amount\n",
    "    3.Withdraw Amount\n",
    "    4.Balance Check\n",
    "    5.Display the Details of User\n",
    "    6.Close an Account\n",
    "    \"\"\")\n",
    "    choice = int(input(\"Enter Task no:\"))\n",
    "    if(choice==1):\n",
    "        openAcc()\n",
    "    elif(choice==2):\n",
    "        depositAmount()\n",
    "    elif(choice==3):\n",
    "        withdrawAmount()\n",
    "    elif(choice==4):\n",
    "        checkBalance()\n",
    "    elif(choice==5):\n",
    "        displayDetails()\n",
    "    elif(choice==6):\n",
    "        closeAcc()\n",
    "    else:\n",
    "        print(\"The input provided is not right... Please provide the correct input!!\")\n",
    "main()"
   ]
  },
  {
   "cell_type": "markdown",
   "id": "bdd00d6d",
   "metadata": {},
   "source": [
    "<h3>Show all the records from both tables"
   ]
  },
  {
   "cell_type": "code",
   "execution_count": 14,
   "id": "852ece38",
   "metadata": {},
   "outputs": [
    {
     "name": "stdout",
     "output_type": "stream",
     "text": [
      "('Ujjwal', '2001331530', '08/04/2002', 'Jalalabad', '9456856758', 2000)\n",
      "('Nisha', '2001331531', '08/04/2003', 'Jalalabad', '7044720860', 1500)\n",
      "('Shubh', '2001331532', '10/06/2001', 'Lucknow', '9875555489', 1000)\n",
      "('Sauhard', '2001331533', '15/01/2003', 'Delhi', '9777673630', 3000)\n",
      "('Varun', '2001331534', '25/02/2001', 'Greater Noida', '9057856298', 3500)\n",
      "('Aastha', '2001331535', '27/12/2000', 'Jind', '8562657660', 2590)\n"
     ]
    }
   ],
   "source": [
    "curr.execute(\"select * from BankAccount\")\n",
    "for i in curr:\n",
    "    print(i)"
   ]
  },
  {
   "cell_type": "code",
   "execution_count": 15,
   "id": "0f7daaba",
   "metadata": {},
   "outputs": [
    {
     "name": "stdout",
     "output_type": "stream",
     "text": [
      "('Ujjwal', '2001331530', 3500)\n",
      "('Nisha', '2001331531', 1500)\n",
      "('Shubh', '2001331532', 1000)\n",
      "('Sauhard', '2001331533', 3000)\n",
      "('Varun', '2001331534', 3500)\n",
      "('Aastha', '2001331535', 2590)\n"
     ]
    }
   ],
   "source": [
    "curr.execute(\"select * from BankAmount\")\n",
    "for i in curr:\n",
    "    print(i)"
   ]
  },
  {
   "cell_type": "markdown",
   "id": "7c183576",
   "metadata": {},
   "source": [
    "<h3>Withdraw amount from any account"
   ]
  },
  {
   "cell_type": "code",
   "execution_count": 16,
   "id": "4fa86fe9",
   "metadata": {},
   "outputs": [
    {
     "name": "stdout",
     "output_type": "stream",
     "text": [
      "\n",
      "    1.Open New Account\n",
      "    2.Deposit Amount\n",
      "    3.Withdraw Amount\n",
      "    4.Balance Check\n",
      "    5.Display the Details of User\n",
      "    6.Close an Account\n",
      "    \n",
      "Enter Task no:3\n",
      "Enter Amount: 300\n",
      "Enter Account No: 2001331534\n",
      "\n",
      "    1.Open New Account\n",
      "    2.Deposit Amount\n",
      "    3.Withdraw Amount\n",
      "    4.Balance Check\n",
      "    5.Display the Details of User\n",
      "    6.Close an Account\n",
      "    \n",
      "Enter Task no:7\n",
      "The input provided is not right... Please provide the correct input!!\n"
     ]
    }
   ],
   "source": [
    "main()"
   ]
  },
  {
   "cell_type": "markdown",
   "id": "0aba7012",
   "metadata": {},
   "source": [
    "<h3>Check records after amount withdrawal"
   ]
  },
  {
   "cell_type": "code",
   "execution_count": 17,
   "id": "68b8fdfb",
   "metadata": {},
   "outputs": [
    {
     "name": "stdout",
     "output_type": "stream",
     "text": [
      "('Ujjwal', '2001331530', 3500)\n",
      "('Nisha', '2001331531', 1500)\n",
      "('Shubh', '2001331532', 1000)\n",
      "('Sauhard', '2001331533', 3000)\n",
      "('Varun', '2001331534', 3200)\n",
      "('Aastha', '2001331535', 2590)\n"
     ]
    }
   ],
   "source": [
    "curr.execute(\"select * from BankAmount\")\n",
    "for i in curr:\n",
    "    print(i)"
   ]
  },
  {
   "cell_type": "markdown",
   "id": "1d8eed5d",
   "metadata": {},
   "source": [
    "<h3>To check balance"
   ]
  },
  {
   "cell_type": "code",
   "execution_count": 18,
   "id": "91dfe183",
   "metadata": {},
   "outputs": [
    {
     "name": "stdout",
     "output_type": "stream",
     "text": [
      "\n",
      "    1.Open New Account\n",
      "    2.Deposit Amount\n",
      "    3.Withdraw Amount\n",
      "    4.Balance Check\n",
      "    5.Display the Details of User\n",
      "    6.Close an Account\n",
      "    \n",
      "Enter Task no:4\n",
      "Enter Account No:2001331531\n",
      "Balance for Account: 2001331531 is 1500\n",
      "\n",
      "    1.Open New Account\n",
      "    2.Deposit Amount\n",
      "    3.Withdraw Amount\n",
      "    4.Balance Check\n",
      "    5.Display the Details of User\n",
      "    6.Close an Account\n",
      "    \n",
      "Enter Task no:7\n",
      "The input provided is not right... Please provide the correct input!!\n"
     ]
    }
   ],
   "source": [
    "main()"
   ]
  },
  {
   "cell_type": "markdown",
   "id": "e4c8c69a",
   "metadata": {},
   "source": [
    "<h3>Display details of user"
   ]
  },
  {
   "cell_type": "code",
   "execution_count": 20,
   "id": "5299353d",
   "metadata": {},
   "outputs": [
    {
     "name": "stdout",
     "output_type": "stream",
     "text": [
      "\n",
      "    1.Open New Account\n",
      "    2.Deposit Amount\n",
      "    3.Withdraw Amount\n",
      "    4.Balance Check\n",
      "    5.Display the Details of User\n",
      "    6.Close an Account\n",
      "    \n",
      "Enter Task no:5\n",
      "Enter Account No:2001331535\n",
      "Aastha 2001331535 2590 \n",
      "    1.Open New Account\n",
      "    2.Deposit Amount\n",
      "    3.Withdraw Amount\n",
      "    4.Balance Check\n",
      "    5.Display the Details of User\n",
      "    6.Close an Account\n",
      "    \n",
      "Enter Task no:7\n",
      "The input provided is not right... Please provide the correct input!!\n"
     ]
    }
   ],
   "source": [
    "main()"
   ]
  },
  {
   "cell_type": "markdown",
   "id": "19a16cb5",
   "metadata": {},
   "source": [
    "<h3>Close an account"
   ]
  },
  {
   "cell_type": "code",
   "execution_count": 21,
   "id": "8643e16e",
   "metadata": {},
   "outputs": [
    {
     "name": "stdout",
     "output_type": "stream",
     "text": [
      "\n",
      "    1.Open New Account\n",
      "    2.Deposit Amount\n",
      "    3.Withdraw Amount\n",
      "    4.Balance Check\n",
      "    5.Display the Details of User\n",
      "    6.Close an Account\n",
      "    \n",
      "Enter Task no:6\n",
      "Enter Account No:2001331535\n",
      "\n",
      "    1.Open New Account\n",
      "    2.Deposit Amount\n",
      "    3.Withdraw Amount\n",
      "    4.Balance Check\n",
      "    5.Display the Details of User\n",
      "    6.Close an Account\n",
      "    \n",
      "Enter Task no:7\n",
      "The input provided is not right... Please provide the correct input!!\n"
     ]
    }
   ],
   "source": [
    "main()"
   ]
  },
  {
   "cell_type": "markdown",
   "id": "7a9c7d35",
   "metadata": {},
   "source": [
    "<h3>Final results"
   ]
  },
  {
   "cell_type": "code",
   "execution_count": 22,
   "id": "156aa239",
   "metadata": {},
   "outputs": [
    {
     "name": "stdout",
     "output_type": "stream",
     "text": [
      "('Ujjwal', '2001331530', 3500)\n",
      "('Nisha', '2001331531', 1500)\n",
      "('Shubh', '2001331532', 1000)\n",
      "('Sauhard', '2001331533', 3000)\n",
      "('Varun', '2001331534', 3200)\n"
     ]
    }
   ],
   "source": [
    "curr.execute(\"select * from BankAmount\")\n",
    "for i in curr:\n",
    "    print(i)"
   ]
  },
  {
   "cell_type": "markdown",
   "id": "270ac8cd",
   "metadata": {},
   "source": [
    "<h3>Show Table"
   ]
  },
  {
   "cell_type": "code",
   "execution_count": 23,
   "id": "6a59a2de",
   "metadata": {},
   "outputs": [
    {
     "name": "stdout",
     "output_type": "stream",
     "text": [
      "('bankaccount',)\n",
      "('bankamount',)\n"
     ]
    }
   ],
   "source": [
    "curr = conn.cursor()\n",
    "curr.execute(\"show tables\")\n",
    "for i in curr:\n",
    "    print(i)"
   ]
  }
 ],
 "metadata": {
  "kernelspec": {
   "display_name": "Python 3 (ipykernel)",
   "language": "python",
   "name": "python3"
  },
  "language_info": {
   "codemirror_mode": {
    "name": "ipython",
    "version": 3
   },
   "file_extension": ".py",
   "mimetype": "text/x-python",
   "name": "python",
   "nbconvert_exporter": "python",
   "pygments_lexer": "ipython3",
   "version": "3.9.13"
  }
 },
 "nbformat": 4,
 "nbformat_minor": 5
}
